{
  "nbformat": 4,
  "nbformat_minor": 0,
  "metadata": {
    "colab": {
      "provenance": [],
      "toc_visible": true,
      "authorship_tag": "ABX9TyPhd1+bUUKAruBYxQ3+HpOT",
      "include_colab_link": true
    },
    "kernelspec": {
      "name": "python3",
      "display_name": "Python 3"
    },
    "language_info": {
      "name": "python"
    }
  },
  "cells": [
    {
      "cell_type": "markdown",
      "metadata": {
        "id": "view-in-github",
        "colab_type": "text"
      },
      "source": [
        "<a href=\"https://colab.research.google.com/github/tommasosenatori/AIEA/blob/main/Bozza.ipynb\" target=\"_parent\"><img src=\"https://colab.research.google.com/assets/colab-badge.svg\" alt=\"Open In Colab\"/></a>"
      ]
    },
    {
      "cell_type": "markdown",
      "source": [
        "# Librerie"
      ],
      "metadata": {
        "id": "kIxqk1nHxyWk"
      }
    },
    {
      "cell_type": "code",
      "execution_count": null,
      "metadata": {
        "id": "aeLsm1dFsa3e"
      },
      "outputs": [],
      "source": [
        "# Importazione delle librerie necessarie\n",
        "\n",
        "import os\n",
        "import sys\n",
        "import pandas as pd\n",
        "import numpy as np\n",
        "import seaborn as sns\n",
        "import matplotlib.pyplot as plt\n",
        "\n",
        "from IPython.display import Audio # serve per riprodurre i file audio, se proprio vogliamo\n",
        "\n",
        "import librosa\n",
        "import librosa.display # per diplayare gli spettrogrammi ma ancora non fatto\n",
        "\n",
        "from collections import Counter\n",
        "\n",
        "from sklearn.utils import shuffle\n",
        "from tensorflow.keras.utils import to_categorical\n",
        "from keras.models import Sequential\n",
        "from keras.layers import Conv2D, MaxPooling2D, Flatten, Dense, Dropout\n",
        "from keras.optimizers import Adam\n",
        "from sklearn.metrics import classification_report, confusion_matrix, accuracy_score, precision_score, recall_score, f1_score"
      ]
    },
    {
      "cell_type": "markdown",
      "source": [
        "# Funzioni di supporto"
      ],
      "metadata": {
        "id": "Bp3yS5Yax__B"
      }
    },
    {
      "cell_type": "code",
      "source": [
        "# Misure delle immagini\n",
        "\n",
        "H = 128\n",
        "W = 128"
      ],
      "metadata": {
        "id": "fmOacyV6yHm4"
      },
      "execution_count": null,
      "outputs": []
    },
    {
      "cell_type": "code",
      "source": [
        "# Funzione che estrae gli spettrogrammi mel\n",
        "\n",
        "def extract_mel-spectogram(file_path, img_height=H, img_width=W){\n",
        "\n",
        "    y, sr = librosa.load(file_path, sr=None)\n",
        "    spect = librosa.feature.melspectrogram(y=y, sr=sr, n_mels=img_height)\n",
        "    spect_db = librosa.power_to_db(spect, ref=np.max)\n",
        "    spect_norm = (spect_db - spect_db.min()) / (spect_db.max() - spect_db.min())\n",
        "    spect_norm = spect_norm[:, :img_width]\n",
        "    return spect_norm\n",
        "}"
      ],
      "metadata": {
        "id": "MHFDxMMEyC8K"
      },
      "execution_count": null,
      "outputs": []
    },
    {
      "cell_type": "code",
      "source": [
        "# Funzione per visualizzare la matrice di confusione\n",
        "\n",
        "def plot_confusion_matrix(y, y_pred):\n",
        "    cm = confusion_matrix(y, y_pred)\n",
        "    plt.figure(figsize=(20, 20))\n",
        "    ax = plt.subplot()\n",
        "    plt.imshow(cm, interpolation='nearest', cmap=plt.cm.Purples)\n",
        "    plt.colorbar()\n",
        "    plt.title(\"Matrice di confusione\")\n",
        "    tick_marks = np.arange(len(labels))\n",
        "    plt.xticks(tick_marks, labels, rotation=45)\n",
        "    plt.yticks(tick_marks, labels)\n",
        "    plt.ylabel('True label')\n",
        "    plt.xlabel('Predicted label')\n",
        "    ax.title.set_fontsize(20)\n",
        "    ax.xaxis.label.set_fontsize(16)\n",
        "    ax.yaxis.label.set_fontsize(16)\n",
        "    limit = cm.max() / 2.\n",
        "    for i, j in itertools.product(range(cm.shape[0]), range(cm.shape[1])):\n",
        "        plt.text(j, i, format(cm[i, j], 'd'), horizontalalignment=\"center\",\n",
        "                 color=\"white\" if cm[i, j] > limit else \"black\")\n",
        "    plt.show()"
      ],
      "metadata": {
        "id": "M_YSqdhC59IS"
      },
      "execution_count": null,
      "outputs": []
    },
    {
      "cell_type": "markdown",
      "source": [
        "# Caricamento dati"
      ],
      "metadata": {
        "id": "0uOOxG6xtZZC"
      }
    },
    {
      "cell_type": "code",
      "source": [
        "# Montaggio di Google Drive\n",
        "\n",
        "from google.colab import drive\n",
        "drive.mount('/content/drive')"
      ],
      "metadata": {
        "id": "MtVz-kKztVr3"
      },
      "execution_count": null,
      "outputs": []
    },
    {
      "cell_type": "code",
      "source": [
        "# Caricamento delle etichette\n",
        "\n",
        "dataset_path = '' # non posso farlo perché non riesco a scaricare il dataset per lo spazio OPSIE\n",
        "instr_labels = sorted(os.listdir(dataset_path))\n",
        "print(labels)"
      ],
      "metadata": {
        "id": "hb-8SZnatjmV"
      },
      "execution_count": null,
      "outputs": []
    },
    {
      "cell_type": "code",
      "source": [
        "# Caricamento dei files\n",
        "\n",
        "paths = []\n",
        "labels = []\n",
        "for instr in instr_labels:\n",
        "  instr_path = os.listdir(os.path.join(dataset_path, instr))\n",
        "  for filename in instr_path:\n",
        "    paths.append(os.path.join(dataset_path, instr, filename))\n",
        "    labels.append(instr)\n",
        "print('Dataset caricato')"
      ],
      "metadata": {
        "id": "fwHi_SD4t2D3"
      },
      "execution_count": null,
      "outputs": []
    },
    {
      "cell_type": "code",
      "source": [
        "# Conteggio dei files per classe\n",
        "\n",
        "counts = Counter(labels)\n",
        "\n",
        "for classe, count in counts.items():\n",
        "    print(f\"{classe}: {count}\")"
      ],
      "metadata": {
        "id": "cOk4kG_hvM84"
      },
      "execution_count": null,
      "outputs": []
    },
    {
      "cell_type": "code",
      "source": [
        "# Visualizzazione del numero di audio per classe\n",
        "\n",
        "plt.figure(figsize=(18, 12))\n",
        "plt.bar(counts.keys(), counts.values())\n",
        "plt.title('Audio per classe')\n",
        "plt.xlabel('Classi')\n",
        "plt.ylabel('Conteggio')\n",
        "plt.xticks(rotation=45)\n",
        "plt.show()"
      ],
      "metadata": {
        "id": "-ltMETwYwhAO"
      },
      "execution_count": null,
      "outputs": []
    },
    {
      "cell_type": "markdown",
      "source": [
        "# Preparazione dati"
      ],
      "metadata": {
        "id": "_fxuGrPNvJCt"
      }
    },
    {
      "cell_type": "code",
      "source": [
        "# Creazione array per spettrogrammi ed etichette\n",
        "\n",
        "X = []\n",
        "y = []\n",
        "\n",
        "for file_path, label in zip(paths, labels):\n",
        "    spect = wav_to_spectrogram(file_path)\n",
        "    X.append(spect)\n",
        "    y.append(label)\n",
        "\n",
        "X = np.array(X)\n",
        "y = np.array(y)\n",
        "\n",
        "# X = X.reshape(X.shape[0], X.shape[1], X.shape[2], 1) mi sta salendo il dubbio se devo farlo o no"
      ],
      "metadata": {
        "id": "Bd84q61bz7yF"
      },
      "execution_count": null,
      "outputs": []
    },
    {
      "cell_type": "code",
      "source": [
        "# Splitting\n",
        "\n",
        "seed = 42 # un clasico\n",
        "\n",
        "X_train, X_test, y_train, y_test = train_test_split(X, y, test_size=0.2, stratify=y, random_state=seed)"
      ],
      "metadata": {
        "id": "0gDy7sa52etJ"
      },
      "execution_count": null,
      "outputs": []
    },
    {
      "cell_type": "code",
      "source": [
        "# Encoding\n",
        "\n",
        "y_train_enc = to_categorical(y_train, num_classes=len(class_names))\n",
        "y_test_enc = to_categorical(y_test, num_classes=len(class_names))"
      ],
      "metadata": {
        "id": "bXYHFlry3S_m"
      },
      "execution_count": null,
      "outputs": []
    },
    {
      "cell_type": "markdown",
      "source": [
        "# Modello"
      ],
      "metadata": {
        "id": "VOThB5S615I5"
      }
    },
    {
      "cell_type": "code",
      "source": [
        "# Creazione modello -> ho chiesto una cosa basic a Chat perché non mi andava di pensarlo\n",
        "\n",
        "input_shape = (H, W, 1)\n",
        "num_classes = len(instr_labels)\n",
        "\n",
        "model = Sequential([\n",
        "    Conv2D(32, (3,3), activation='relu', input_shape=input_shape),\n",
        "    MaxPooling2D((2,2)),\n",
        "    Conv2D(64, (3,3), activation='relu'),\n",
        "    MaxPooling2D((2,2)),\n",
        "    Conv2D(128, (3,3), activation='relu'),\n",
        "    MaxPooling2D((2,2)),\n",
        "    Flatten(),\n",
        "    Dense(128, activation='relu'),\n",
        "    Dropout(0.5),\n",
        "    Dense(num_classes, activation='softmax')\n",
        "])"
      ],
      "metadata": {
        "id": "CU0ZfT6Y19I3"
      },
      "execution_count": null,
      "outputs": []
    },
    {
      "cell_type": "code",
      "source": [
        "# Compilazione modello\n",
        "\n",
        "model.compile(optimizer='adam', loss='categorical_crossentropy', metrics=['accuracy'])"
      ],
      "metadata": {
        "id": "M7_XgoHi2P2G"
      },
      "execution_count": null,
      "outputs": []
    },
    {
      "cell_type": "code",
      "source": [
        "# Sommario modello\n",
        "\n",
        "model.summary()"
      ],
      "metadata": {
        "id": "-dxXSJra3d3-"
      },
      "execution_count": null,
      "outputs": []
    },
    {
      "cell_type": "code",
      "source": [
        "# Addestramento modello\n",
        "\n",
        "epochs = 20 # a casissimo eh\n",
        "batch_size = 32 # un clasico\n",
        "\n",
        "history = model.fit(X_train, y_train_enc, validation_data=(X_test, y_test_enc), epochs=epochs, batch_size=batch_size)"
      ],
      "metadata": {
        "id": "jjCLcGnn3i3u"
      },
      "execution_count": null,
      "outputs": []
    },
    {
      "cell_type": "markdown",
      "source": [
        "# Valutazione"
      ],
      "metadata": {
        "id": "nsMYQ7bW38-y"
      }
    },
    {
      "cell_type": "code",
      "source": [
        "# Visualizzazione dell'accuratezza\n",
        "\n",
        "plt.figure()\n",
        "plt.plot(history.history['accuracy'], label='training accuracy')\n",
        "plt.plot(history.history['val_accuracy'], label='val accuracy')\n",
        "plt.title('Accuracy')\n",
        "plt.xlabel('Epochs')\n",
        "plt.ylabel('Accuracy')\n",
        "plt.legend()\n",
        "plt.show()"
      ],
      "metadata": {
        "id": "5_ArWzZ24l0Q"
      },
      "execution_count": null,
      "outputs": []
    },
    {
      "cell_type": "code",
      "source": [
        "# Visualizzazione della loss\n",
        "\n",
        "plt.figure()\n",
        "plt.plot(history.history['loss'], label='training loss')\n",
        "plt.plot(history.history['val_loss'], label='val loss')\n",
        "plt.title('Loss')\n",
        "plt.xlabel('Epochs')\n",
        "plt.ylabel('Loss')\n",
        "plt.legend()\n",
        "plt.show()"
      ],
      "metadata": {
        "id": "hEOk8oiv4l26"
      },
      "execution_count": null,
      "outputs": []
    },
    {
      "cell_type": "code",
      "source": [
        "# Accuratezza sui file di test\n",
        "\n",
        "test_loss, test_acc = model.evaluate(X_test, y_test_enc, verbose=0)\n",
        "    print(f\"Test accuracy: {test_acc:.2f}\")"
      ],
      "metadata": {
        "id": "79SEY9-M3_gk"
      },
      "execution_count": null,
      "outputs": []
    },
    {
      "cell_type": "code",
      "source": [
        "# Rapporto di classificazione\n",
        "\n",
        "\n",
        "y_pred = model.predict(X_test)\n",
        "y_pred_enc = np.argmax(y_pred, axis=1)\n",
        "y_test_encoded = np.argmax(y_test_enc, axis=1)\n",
        "\n",
        "print(\"Rapporto di classificazione:\")\n",
        "print(classification_report(y_test_encoded, y_pred_enc, target_names=np.unique(y)))"
      ],
      "metadata": {
        "id": "SFaCbH_15EFi"
      },
      "execution_count": null,
      "outputs": []
    },
    {
      "cell_type": "code",
      "source": [
        "# Valutazione delle prestazioni attraverso matrice di confusione\n",
        "\n",
        "plot_confusion_matrix(y_test_encoded, y_pred_enc)"
      ],
      "metadata": {
        "id": "AxMnNpya6QVF"
      },
      "execution_count": null,
      "outputs": []
    }
  ]
}